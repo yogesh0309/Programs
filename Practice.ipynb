{
 "cells": [
  {
   "cell_type": "code",
   "execution_count": 7,
   "metadata": {
    "collapsed": true
   },
   "outputs": [],
   "source": [
    "#Program For Counting Char and Printing in format e.g. input : aabbcc  output : a2b2c2\n",
    "def CountString(s):\n",
    "    count = {}\n",
    "    \n",
    "    for char in s:\n",
    "        if char in count:\n",
    "            count[char] += 1\n",
    "        else:\n",
    "            count[char] = 1\n",
    "    \n",
    "    keys = list(count.keys())\n",
    "    keys.sort()\n",
    "    \n",
    "    requiredstr = \"\"\n",
    "    for val in keys:\n",
    "        requiredstr += val + str(count[val])\n",
    "    print(requiredstr)"
   ]
  },
  {
   "cell_type": "code",
   "execution_count": 8,
   "metadata": {},
   "outputs": [
    {
     "name": "stdout",
     "output_type": "stream",
     "text": [
      "a4b2c2d2s2v2\n"
     ]
    }
   ],
   "source": [
    "#Run Successful\n",
    "CountString('aabvvddaassbcc')"
   ]
  },
  {
   "cell_type": "code",
   "execution_count": 9,
   "metadata": {
    "collapsed": true
   },
   "outputs": [],
   "source": [
    "#Program For Finding All Permutations for the string e.g. input : abc output : ['acb', 'abc', 'cab', 'cba', 'bac', 'bca'] \n",
    "def permute(string):\n",
    "    \n",
    "    out = []\n",
    "    if len(string) == 1:\n",
    "        out += string\n",
    "    \n",
    "    else:\n",
    "        for i,let in enumerate(string):\n",
    "            for perm in permute(string[:i] + string[i+1:]):\n",
    "                out += [let+perm]\n",
    "            \n",
    "    return out"
   ]
  },
  {
   "cell_type": "code",
   "execution_count": 10,
   "metadata": {},
   "outputs": [
    {
     "data": {
      "text/plain": [
       "['acb', 'abc', 'cab', 'cba', 'bac', 'bca']"
      ]
     },
     "execution_count": 10,
     "metadata": {},
     "output_type": "execute_result"
    }
   ],
   "source": [
    "#Run Successful\n",
    "permute('acb')"
   ]
  },
  {
   "cell_type": "code",
   "execution_count": 11,
   "metadata": {
    "collapsed": true
   },
   "outputs": [],
   "source": [
    "#Program for Factorial of a given Number input : 5 Output : 120\n",
    "def factorial(num):\n",
    "    \n",
    "    if num == 1:\n",
    "        return num\n",
    "    else:\n",
    "        return num*factorial(num-1)"
   ]
  },
  {
   "cell_type": "code",
   "execution_count": 12,
   "metadata": {},
   "outputs": [
    {
     "data": {
      "text/plain": [
       "120"
      ]
     },
     "execution_count": 12,
     "metadata": {},
     "output_type": "execute_result"
    }
   ],
   "source": [
    "#Run Successful\n",
    "factorial(5)"
   ]
  },
  {
   "cell_type": "code",
   "execution_count": 13,
   "metadata": {
    "collapsed": true
   },
   "outputs": [],
   "source": [
    "#Program for Sum of N Numbers e.g. Input : 100 Output : 5050\n",
    "def SumOfNNumbers(N):\n",
    "    if N == 0:\n",
    "        return 0\n",
    "    else:\n",
    "        return N + SumOfNNumbers(N-1)\n",
    "    \n",
    "    \n",
    "    "
   ]
  },
  {
   "cell_type": "code",
   "execution_count": 14,
   "metadata": {},
   "outputs": [
    {
     "data": {
      "text/plain": [
       "5050"
      ]
     },
     "execution_count": 14,
     "metadata": {},
     "output_type": "execute_result"
    }
   ],
   "source": [
    "#Run Successful\n",
    "SumOfNNumbers(100)"
   ]
  },
  {
   "cell_type": "code",
   "execution_count": 15,
   "metadata": {
    "collapsed": true
   },
   "outputs": [],
   "source": [
    "#Program for Reverse String e.g. Input : 'abc' Output : 'cba'\n",
    "def ReverseStr(s):\n",
    "    if len(s) == 1:\n",
    "        return s\n",
    "    else :\n",
    "        return s[-1] + ReverseStr(s[:-1])"
   ]
  },
  {
   "cell_type": "code",
   "execution_count": 16,
   "metadata": {},
   "outputs": [
    {
     "data": {
      "text/plain": [
       "'aeaeaeaa'"
      ]
     },
     "execution_count": 16,
     "metadata": {},
     "output_type": "execute_result"
    }
   ],
   "source": [
    "#Run Successful\n",
    "ReverseStr('aaeaeaea')"
   ]
  },
  {
   "cell_type": "code",
   "execution_count": 17,
   "metadata": {
    "collapsed": true
   },
   "outputs": [],
   "source": [
    "#Program for fibonacci Series e.g. Input : 5 Output : 8\n",
    "def Fibonacci(Num):\n",
    "    if Num == 0 or Num == 1:\n",
    "        return 1\n",
    "    else:\n",
    "        return (Fibonacci(Num-1) + Fibonacci(Num - 2))"
   ]
  },
  {
   "cell_type": "code",
   "execution_count": 18,
   "metadata": {},
   "outputs": [
    {
     "data": {
      "text/plain": [
       "10946"
      ]
     },
     "execution_count": 18,
     "metadata": {},
     "output_type": "execute_result"
    }
   ],
   "source": [
    "#Run Successful\n",
    "Fibonacci(20)"
   ]
  },
  {
   "cell_type": "code",
   "execution_count": 19,
   "metadata": {
    "collapsed": true
   },
   "outputs": [],
   "source": [
    "#Program for sum of digits in a number e.g. Input : 325 Output : 10\n",
    "def SumOfDigits(number):\n",
    "    sum1 = 0\n",
    "    while(number > 0):\n",
    "        rem = number%10\n",
    "        sum1 += rem\n",
    "        number = int(number/10)\n",
    "        \n",
    "    return sum1"
   ]
  },
  {
   "cell_type": "code",
   "execution_count": 20,
   "metadata": {},
   "outputs": [
    {
     "data": {
      "text/plain": [
       "8"
      ]
     },
     "execution_count": 20,
     "metadata": {},
     "output_type": "execute_result"
    }
   ],
   "source": [
    "#Run Successful\n",
    "SumOfDigits(125)"
   ]
  },
  {
   "cell_type": "code",
   "execution_count": 21,
   "metadata": {
    "collapsed": true
   },
   "outputs": [],
   "source": [
    "#Program for Reverse Number e.g. Input : 321 Output : 123\n",
    "def ReverseNumber(number):\n",
    "    sum1 = 0\n",
    "    while(number > 0):\n",
    "        rem = number%10\n",
    "        sum1 = sum1*10 + rem\n",
    "        number = int(number/10)\n",
    "        \n",
    "    return sum1"
   ]
  },
  {
   "cell_type": "code",
   "execution_count": 22,
   "metadata": {},
   "outputs": [
    {
     "data": {
      "text/plain": [
       "645"
      ]
     },
     "execution_count": 22,
     "metadata": {},
     "output_type": "execute_result"
    }
   ],
   "source": [
    "#Run Successful\n",
    "ReverseNumber(546)"
   ]
  },
  {
   "cell_type": "code",
   "execution_count": 23,
   "metadata": {
    "collapsed": true
   },
   "outputs": [],
   "source": [
    "#Program for Palindrome String e.g. Input : 'aba' Output : True\n",
    "def Palindrome(st):\n",
    "    st1 = ReverseStr(st)\n",
    "    if st == st1:\n",
    "        return True\n",
    "    else:\n",
    "        return False\n",
    "    "
   ]
  },
  {
   "cell_type": "code",
   "execution_count": 24,
   "metadata": {},
   "outputs": [
    {
     "data": {
      "text/plain": [
       "True"
      ]
     },
     "execution_count": 24,
     "metadata": {},
     "output_type": "execute_result"
    }
   ],
   "source": [
    "#Run Successful\n",
    "Palindrome('212')"
   ]
  },
  {
   "cell_type": "code",
   "execution_count": 25,
   "metadata": {
    "collapsed": true
   },
   "outputs": [],
   "source": [
    "#Reverse String And Sum of Digits\n",
    "def ReverseAndSumDigits(num):\n",
    "    n1 = ReverseNumber(num)\n",
    "    print(\"Reverse Number {one} \".format(one = n1))\n",
    "    sum1 = SumOfDigits(n1)\n",
    "    return sum1"
   ]
  },
  {
   "cell_type": "code",
   "execution_count": 26,
   "metadata": {},
   "outputs": [
    {
     "name": "stdout",
     "output_type": "stream",
     "text": [
      "Reverse Number 321 \n"
     ]
    },
    {
     "data": {
      "text/plain": [
       "6"
      ]
     },
     "execution_count": 26,
     "metadata": {},
     "output_type": "execute_result"
    }
   ],
   "source": [
    "ReverseAndSumDigits(123)"
   ]
  },
  {
   "cell_type": "code",
   "execution_count": null,
   "metadata": {
    "collapsed": true
   },
   "outputs": [],
   "source": [
    "# Find Max Sum from hourglass.\n",
    "def hourglassSum(arr):\n",
    "    # want to find the maximum hourglass sum\n",
    "    # minimum hourglass sum = -9 * 7 = -63\n",
    "    maxSum = -63\n",
    "    \n",
    "    for i in range(4):\n",
    "        for j in range(4):\n",
    "        \n",
    "            # sum of top 3 elements\n",
    "            top = sum(arr[i][j:j+3])\n",
    "            \n",
    "            # sum of the mid element\n",
    "            mid = arr[i+1][j+1]\n",
    "            \n",
    "            # sum of bottom 3 elements\n",
    "            bottom = sum(arr[i+2][j:j+3])\n",
    "            \n",
    "            hourglass = top + mid + bottom\n",
    "            \n",
    "            if hourglass > maxSum:\n",
    "                maxSum = hourglass\n",
    "                \n",
    "    return maxSum    "
   ]
  },
  {
   "cell_type": "code",
   "execution_count": null,
   "metadata": {
    "collapsed": true
   },
   "outputs": [],
   "source": []
  },
  {
   "cell_type": "code",
   "execution_count": null,
   "metadata": {
    "collapsed": true
   },
   "outputs": [],
   "source": []
  }
 ],
 "metadata": {
  "kernelspec": {
   "display_name": "Python 3",
   "language": "python",
   "name": "python3"
  },
  "language_info": {
   "codemirror_mode": {
    "name": "ipython",
    "version": 3
   },
   "file_extension": ".py",
   "mimetype": "text/x-python",
   "name": "python",
   "nbconvert_exporter": "python",
   "pygments_lexer": "ipython3",
   "version": "3.7.3"
  }
 },
 "nbformat": 4,
 "nbformat_minor": 2
}
